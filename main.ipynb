{
 "cells": [
  {
   "cell_type": "code",
   "execution_count": 1,
   "metadata": {},
   "outputs": [],
   "source": [
    "from transformers import set_seed\n",
    "set_seed(22)"
   ]
  },
  {
   "cell_type": "code",
   "execution_count": 6,
   "metadata": {},
   "outputs": [
    {
     "data": {
      "application/vnd.jupyter.widget-view+json": {
       "model_id": "84c8129f1f094083a4418e57d8ddc27e",
       "version_major": 2,
       "version_minor": 0
      },
      "text/plain": [
       "VBox(children=(HTML(value='<center> <img\\nsrc=https://huggingface.co/front/assets/huggingface_logo-noborder.sv…"
      ]
     },
     "metadata": {},
     "output_type": "display_data"
    }
   ],
   "source": [
    "from huggingface_hub import login\n",
    "login()"
   ]
  },
  {
   "cell_type": "markdown",
   "metadata": {},
   "source": [
    "# Vanilla Gemma"
   ]
  },
  {
   "cell_type": "code",
   "execution_count": 2,
   "metadata": {},
   "outputs": [],
   "source": [
    "import gc\n",
    "import torch\n",
    "\n",
    "gc.collect()\n",
    "torch.cuda.empty_cache()"
   ]
  },
  {
   "cell_type": "code",
   "execution_count": 3,
   "metadata": {},
   "outputs": [],
   "source": [
    "from transformers import AutoModelForCausalLM, AutoTokenizer\n",
    "import torch\n",
    "import gc\n",
    "\n",
    "gemma_2b = 'google/gemma-2b'\n",
    "gemma_7b_it = 'google/gemma-7b-it'\n",
    "gemma_2b_it = 'google/gemma-2-2b-it'\n",
    "\n",
    "def run_inference(model_id, prompts):\n",
    "    tokenizer = AutoTokenizer.from_pretrained(model_id)\n",
    "    model = AutoModelForCausalLM.from_pretrained(model_id, device_map = 'auto', torch_dtype = torch.float16)\n",
    "    input_ids = tokenizer(prompts, padding = True, return_tensors='pt').to('cuda')\n",
    "\n",
    "    outputs = model.generate(**input_ids, max_new_tokens = 1024)\n",
    "    output_texts = tokenizer.batch_decode(outputs, skip_special_tokens = True)\n",
    "\n",
    "    del model\n",
    "    del tokenizer\n",
    "    gc.collect()\n",
    "    torch.cuda.empty_cache()\n",
    "\n",
    "    return output_texts"
   ]
  },
  {
   "cell_type": "code",
   "execution_count": 4,
   "metadata": {},
   "outputs": [
    {
     "data": {
      "application/vnd.jupyter.widget-view+json": {
       "model_id": "eaa113e9911e405b9bd08028161f178e",
       "version_major": 2,
       "version_minor": 0
      },
      "text/plain": [
       "Loading checkpoint shards:   0%|          | 0/2 [00:00<?, ?it/s]"
      ]
     },
     "metadata": {},
     "output_type": "display_data"
    }
   ],
   "source": [
    "prompt_1 = \"What is Data Science?\"\n",
    "prompt_2 = \"Explain 3 important Data Science concepts, and tell why each concept is important\"\n",
    "prompt_3 = \"I'm a marketing specialist, I know nothing about Data Science. Explain to me what Data Science is and simplifie it as much as you can. When possible, use analogies that I can understand better as a marketing specialist\"\n",
    "\n",
    "output_2b_it = run_inference(gemma_2b_it, [prompt_1, prompt_2, prompt_3])"
   ]
  },
  {
   "cell_type": "code",
   "execution_count": 7,
   "metadata": {},
   "outputs": [],
   "source": [
    "from transformers import BitsAndBytesConfig\n",
    "\n",
    "def load_model(model_id = gemma_2b_it, tokenizer_id = gemma_2b_it, load_in_4bit = True, device = 'auto', quant_compute_dtype = torch.float16, torch_dtype = None):\n",
    "    quantization_config = BitsAndBytesConfig(\n",
    "        load_in_4bit = load_in_4bit,\n",
    "        bnb_4bit_quant_type = 'nf4',\n",
    "        bnb_4bit_compute_dtype = quant_compute_dtype,\n",
    "    ) if load_in_4bit else None\n",
    "\n",
    "    tokenizer = AutoTokenizer.from_pretrained(tokenizer_id)\n",
    "\n",
    "    model = AutoModelForCausalLM.from_pretrained(\n",
    "        model_id,\n",
    "        quantization_config = quantization_config,\n",
    "        device_map = device,\n",
    "        torch_dtype = torch_dtype\n",
    "    )\n",
    "\n",
    "    return tokenizer, model"
   ]
  },
  {
   "cell_type": "markdown",
   "metadata": {},
   "source": [
    "# Fine-Tuning"
   ]
  },
  {
   "cell_type": "markdown",
   "metadata": {},
   "source": [
    "### Fine-Tuning data load"
   ]
  },
  {
   "cell_type": "code",
   "execution_count": 10,
   "metadata": {},
   "outputs": [
    {
     "data": {
      "application/vnd.jupyter.widget-view+json": {
       "model_id": "48375eaf3e084f6d95d41eab4d6a35ca",
       "version_major": 2,
       "version_minor": 0
      },
      "text/plain": [
       "Generating train split: 0 examples [00:00, ? examples/s]"
      ]
     },
     "metadata": {},
     "output_type": "display_data"
    },
    {
     "data": {
      "application/vnd.jupyter.widget-view+json": {
       "model_id": "69bbce97fe25458d99ceb9bd15184819",
       "version_major": 2,
       "version_minor": 0
      },
      "text/plain": [
       "Filter:   0%|          | 0/181 [00:00<?, ? examples/s]"
      ]
     },
     "metadata": {},
     "output_type": "display_data"
    },
    {
     "name": "stdout",
     "output_type": "stream",
     "text": [
      "Dataset({\n",
      "    features: ['lang', 'messages'],\n",
      "    num_rows: 181\n",
      "})\n",
      "Dataset({\n",
      "    features: ['messages'],\n",
      "    num_rows: 181\n",
      "})\n"
     ]
    }
   ],
   "source": [
    "from datasets import load_dataset, concatenate_datasets, Dataset\n",
    "\n",
    "def _filter(example):\n",
    "    text = example['messages']\n",
    "    tokens = coder_tokenizer.apply_chat_template(text)\n",
    "    \n",
    "    return len(tokens) <= 1000\n",
    "\n",
    "dataset = load_dataset(\n",
    "    'json',\n",
    "    data_files ='/root/rag_test/data/Teach_Data_Science_Programming/dataset_1.1.json',\n",
    "    split = 'train'\n",
    ")\n",
    "\n",
    "dataset = dataset.filter(_filter)\n",
    "dataset = dataset.shuffle(seed = 1111)\n",
    "\n",
    "dataset = dataset.remove_columns(['lang'])\n"
   ]
  },
  {
   "cell_type": "code",
   "execution_count": 8,
   "metadata": {},
   "outputs": [
    {
     "data": {
      "application/vnd.jupyter.widget-view+json": {
       "model_id": "60c36527364c4604b31d9352e677fea9",
       "version_major": 2,
       "version_minor": 0
      },
      "text/plain": [
       "Loading checkpoint shards:   0%|          | 0/2 [00:00<?, ?it/s]"
      ]
     },
     "metadata": {},
     "output_type": "display_data"
    }
   ],
   "source": [
    "coder_tokenizer, coder_model = load_model()"
   ]
  },
  {
   "cell_type": "code",
   "execution_count": 22,
   "metadata": {},
   "outputs": [
    {
     "name": "stderr",
     "output_type": "stream",
     "text": [
      "/opt/conda/envs/rag/lib/python3.12/site-packages/huggingface_hub/utils/_deprecation.py:100: FutureWarning: Deprecated argument(s) used in '__init__': max_seq_length. Will not be supported from version '1.0.0'.\n",
      "\n",
      "Deprecated positional argument(s) used in SFTTrainer, please use the SFTConfig to set these arguments instead.\n",
      "  warnings.warn(message, FutureWarning)\n",
      "/opt/conda/envs/rag/lib/python3.12/site-packages/trl/trainer/sft_trainer.py:283: UserWarning: You passed a `max_seq_length` argument to the SFTTrainer, the value you passed will override the one in the `SFTConfig`.\n",
      "  warnings.warn(\n"
     ]
    },
    {
     "data": {
      "application/vnd.jupyter.widget-view+json": {
       "model_id": "38cbdb127e174c4a8b8bf8851dda277e",
       "version_major": 2,
       "version_minor": 0
      },
      "text/plain": [
       "Map:   0%|          | 0/181 [00:00<?, ? examples/s]"
      ]
     },
     "metadata": {},
     "output_type": "display_data"
    },
    {
     "name": "stderr",
     "output_type": "stream",
     "text": [
      "Detected kernel version 5.4.0, which is below the recommended minimum of 5.5.0; this can cause the process to hang. It is recommended to upgrade the kernel to the minimum version or higher.\n"
     ]
    }
   ],
   "source": [
    "from peft import LoraConfig\n",
    "from transformers import TrainingArguments\n",
    "from trl import SFTTrainer, DataCollatorForCompletionOnlyLM\n",
    "\n",
    "def formatting_prompts_func(example):\n",
    "    output_texts = []\n",
    "\n",
    "    for i in range(len(example['messages'])):\n",
    "        messages = example['messages'][i]\n",
    "\n",
    "        chat = coder_tokenizer.apply_chat_template(messages, tokenize=False, add_generation_prompt = False)\n",
    "        chat = chat.removeprefix(coder_tokenizer.bos_token)\n",
    "\n",
    "        output_texts.append(chat)\n",
    "    \n",
    "    return output_texts\n",
    "\n",
    "lora_config = LoraConfig(\n",
    "    r = 8,\n",
    "    lora_alpha = 8,\n",
    "    lora_dropout = 0.1,\n",
    "    target_modules = [\"q_proj\", \"o_proj\", \"k_proj\", \"v_proj\", \"gate_proj\", \"up_proj\", \"down_proj\"],\n",
    "    bias = \"none\",\n",
    "    task_type = 'CAUSAL_LM'\n",
    ")\n",
    "\n",
    "training_args = TrainingArguments(\n",
    "    output_dir = '/root/rag_test/results',\n",
    "    hub_model_id = 'dsi-coder',\n",
    "    overwrite_output_dir = True,\n",
    "    per_device_train_batch_size = 1,\n",
    "    gradient_accumulation_steps = 16,\n",
    "    optim = 'paged_adamw_8bit',\n",
    "    learning_rate = 1e-4,\n",
    "    warmup_ratio = 0.08,\n",
    "    num_train_epochs = 1,\n",
    "    lr_scheduler_type = 'cosine',\n",
    "    report_to = \"none\",\n",
    "    logging_steps = 1,\n",
    ")\n",
    "\n",
    "coder_tokenizer.padding_side = 'right'\n",
    "coder_tokenizer.padding_token = coder_tokenizer.eos_token\n",
    "\n",
    "response_template = \"<start_of_turn>model\\n\"\n",
    "collator = DataCollatorForCompletionOnlyLM(response_template, tokenizer = coder_tokenizer)\n",
    "\n",
    "coder_trainer = SFTTrainer(\n",
    "    coder_model,\n",
    "    args=training_args,\n",
    "    train_dataset=dataset,\n",
    "    max_seq_length=1024,\n",
    "    peft_config=lora_config,\n",
    "    tokenizer=coder_tokenizer,\n",
    "    data_collator=collator,\n",
    "    packing=False,\n",
    "    formatting_func=formatting_prompts_func\n",
    ")"
   ]
  },
  {
   "cell_type": "code",
   "execution_count": 23,
   "metadata": {},
   "outputs": [
    {
     "name": "stderr",
     "output_type": "stream",
     "text": [
      "It is strongly recommended to train Gemma2 models with the `eager` attention implementation instead of `sdpa`. Use `eager` with `AutoModelForCausalLM.from_pretrained('<path-to-checkpoint>', attn_implementation='eager')`.\n"
     ]
    },
    {
     "ename": "OutOfMemoryError",
     "evalue": "CUDA out of memory. Tried to allocate 576.00 MiB. GPU 0 has a total capacity of 23.69 GiB of which 546.81 MiB is free. Process 3641474 has 13.33 GiB memory in use. Process 652656 has 9.81 GiB memory in use. Of the allocated memory 9.37 GiB is allocated by PyTorch, and 133.90 MiB is reserved by PyTorch but unallocated. If reserved but unallocated memory is large try setting PYTORCH_CUDA_ALLOC_CONF=expandable_segments:True to avoid fragmentation.  See documentation for Memory Management  (https://pytorch.org/docs/stable/notes/cuda.html#environment-variables)",
     "output_type": "error",
     "traceback": [
      "\u001b[0;31m---------------------------------------------------------------------------\u001b[0m",
      "\u001b[0;31mOutOfMemoryError\u001b[0m                          Traceback (most recent call last)",
      "Cell \u001b[0;32mIn[23], line 1\u001b[0m\n\u001b[0;32m----> 1\u001b[0m \u001b[43mcoder_trainer\u001b[49m\u001b[38;5;241;43m.\u001b[39;49m\u001b[43mtrain\u001b[49m\u001b[43m(\u001b[49m\u001b[43m)\u001b[49m\n",
      "File \u001b[0;32m/opt/conda/envs/rag/lib/python3.12/site-packages/trl/trainer/sft_trainer.py:434\u001b[0m, in \u001b[0;36mSFTTrainer.train\u001b[0;34m(self, *args, **kwargs)\u001b[0m\n\u001b[1;32m    431\u001b[0m \u001b[38;5;28;01mif\u001b[39;00m \u001b[38;5;28mself\u001b[39m\u001b[38;5;241m.\u001b[39mneftune_noise_alpha \u001b[38;5;129;01mis\u001b[39;00m \u001b[38;5;129;01mnot\u001b[39;00m \u001b[38;5;28;01mNone\u001b[39;00m \u001b[38;5;129;01mand\u001b[39;00m \u001b[38;5;129;01mnot\u001b[39;00m \u001b[38;5;28mself\u001b[39m\u001b[38;5;241m.\u001b[39m_trainer_supports_neftune:\n\u001b[1;32m    432\u001b[0m     \u001b[38;5;28mself\u001b[39m\u001b[38;5;241m.\u001b[39mmodel \u001b[38;5;241m=\u001b[39m \u001b[38;5;28mself\u001b[39m\u001b[38;5;241m.\u001b[39m_trl_activate_neftune(\u001b[38;5;28mself\u001b[39m\u001b[38;5;241m.\u001b[39mmodel)\n\u001b[0;32m--> 434\u001b[0m output \u001b[38;5;241m=\u001b[39m \u001b[38;5;28;43msuper\u001b[39;49m\u001b[43m(\u001b[49m\u001b[43m)\u001b[49m\u001b[38;5;241;43m.\u001b[39;49m\u001b[43mtrain\u001b[49m\u001b[43m(\u001b[49m\u001b[38;5;241;43m*\u001b[39;49m\u001b[43margs\u001b[49m\u001b[43m,\u001b[49m\u001b[43m \u001b[49m\u001b[38;5;241;43m*\u001b[39;49m\u001b[38;5;241;43m*\u001b[39;49m\u001b[43mkwargs\u001b[49m\u001b[43m)\u001b[49m\n\u001b[1;32m    436\u001b[0m \u001b[38;5;66;03m# After training we make sure to retrieve back the original forward pass method\u001b[39;00m\n\u001b[1;32m    437\u001b[0m \u001b[38;5;66;03m# for the embedding layer by removing the forward post hook.\u001b[39;00m\n\u001b[1;32m    438\u001b[0m \u001b[38;5;28;01mif\u001b[39;00m \u001b[38;5;28mself\u001b[39m\u001b[38;5;241m.\u001b[39mneftune_noise_alpha \u001b[38;5;129;01mis\u001b[39;00m \u001b[38;5;129;01mnot\u001b[39;00m \u001b[38;5;28;01mNone\u001b[39;00m \u001b[38;5;129;01mand\u001b[39;00m \u001b[38;5;129;01mnot\u001b[39;00m \u001b[38;5;28mself\u001b[39m\u001b[38;5;241m.\u001b[39m_trainer_supports_neftune:\n",
      "File \u001b[0;32m/opt/conda/envs/rag/lib/python3.12/site-packages/transformers/trainer.py:1938\u001b[0m, in \u001b[0;36mTrainer.train\u001b[0;34m(self, resume_from_checkpoint, trial, ignore_keys_for_eval, **kwargs)\u001b[0m\n\u001b[1;32m   1936\u001b[0m         hf_hub_utils\u001b[38;5;241m.\u001b[39menable_progress_bars()\n\u001b[1;32m   1937\u001b[0m \u001b[38;5;28;01melse\u001b[39;00m:\n\u001b[0;32m-> 1938\u001b[0m     \u001b[38;5;28;01mreturn\u001b[39;00m \u001b[43minner_training_loop\u001b[49m\u001b[43m(\u001b[49m\n\u001b[1;32m   1939\u001b[0m \u001b[43m        \u001b[49m\u001b[43margs\u001b[49m\u001b[38;5;241;43m=\u001b[39;49m\u001b[43margs\u001b[49m\u001b[43m,\u001b[49m\n\u001b[1;32m   1940\u001b[0m \u001b[43m        \u001b[49m\u001b[43mresume_from_checkpoint\u001b[49m\u001b[38;5;241;43m=\u001b[39;49m\u001b[43mresume_from_checkpoint\u001b[49m\u001b[43m,\u001b[49m\n\u001b[1;32m   1941\u001b[0m \u001b[43m        \u001b[49m\u001b[43mtrial\u001b[49m\u001b[38;5;241;43m=\u001b[39;49m\u001b[43mtrial\u001b[49m\u001b[43m,\u001b[49m\n\u001b[1;32m   1942\u001b[0m \u001b[43m        \u001b[49m\u001b[43mignore_keys_for_eval\u001b[49m\u001b[38;5;241;43m=\u001b[39;49m\u001b[43mignore_keys_for_eval\u001b[49m\u001b[43m,\u001b[49m\n\u001b[1;32m   1943\u001b[0m \u001b[43m    \u001b[49m\u001b[43m)\u001b[49m\n",
      "File \u001b[0;32m/opt/conda/envs/rag/lib/python3.12/site-packages/transformers/trainer.py:2279\u001b[0m, in \u001b[0;36mTrainer._inner_training_loop\u001b[0;34m(self, batch_size, args, resume_from_checkpoint, trial, ignore_keys_for_eval)\u001b[0m\n\u001b[1;32m   2276\u001b[0m     \u001b[38;5;28mself\u001b[39m\u001b[38;5;241m.\u001b[39mcontrol \u001b[38;5;241m=\u001b[39m \u001b[38;5;28mself\u001b[39m\u001b[38;5;241m.\u001b[39mcallback_handler\u001b[38;5;241m.\u001b[39mon_step_begin(args, \u001b[38;5;28mself\u001b[39m\u001b[38;5;241m.\u001b[39mstate, \u001b[38;5;28mself\u001b[39m\u001b[38;5;241m.\u001b[39mcontrol)\n\u001b[1;32m   2278\u001b[0m \u001b[38;5;28;01mwith\u001b[39;00m \u001b[38;5;28mself\u001b[39m\u001b[38;5;241m.\u001b[39maccelerator\u001b[38;5;241m.\u001b[39maccumulate(model):\n\u001b[0;32m-> 2279\u001b[0m     tr_loss_step \u001b[38;5;241m=\u001b[39m \u001b[38;5;28;43mself\u001b[39;49m\u001b[38;5;241;43m.\u001b[39;49m\u001b[43mtraining_step\u001b[49m\u001b[43m(\u001b[49m\u001b[43mmodel\u001b[49m\u001b[43m,\u001b[49m\u001b[43m \u001b[49m\u001b[43minputs\u001b[49m\u001b[43m)\u001b[49m\n\u001b[1;32m   2281\u001b[0m \u001b[38;5;28;01mif\u001b[39;00m (\n\u001b[1;32m   2282\u001b[0m     args\u001b[38;5;241m.\u001b[39mlogging_nan_inf_filter\n\u001b[1;32m   2283\u001b[0m     \u001b[38;5;129;01mand\u001b[39;00m \u001b[38;5;129;01mnot\u001b[39;00m is_torch_xla_available()\n\u001b[1;32m   2284\u001b[0m     \u001b[38;5;129;01mand\u001b[39;00m (torch\u001b[38;5;241m.\u001b[39misnan(tr_loss_step) \u001b[38;5;129;01mor\u001b[39;00m torch\u001b[38;5;241m.\u001b[39misinf(tr_loss_step))\n\u001b[1;32m   2285\u001b[0m ):\n\u001b[1;32m   2286\u001b[0m     \u001b[38;5;66;03m# if loss is nan or inf simply add the average of previous logged losses\u001b[39;00m\n\u001b[1;32m   2287\u001b[0m     tr_loss \u001b[38;5;241m+\u001b[39m\u001b[38;5;241m=\u001b[39m tr_loss \u001b[38;5;241m/\u001b[39m (\u001b[38;5;241m1\u001b[39m \u001b[38;5;241m+\u001b[39m \u001b[38;5;28mself\u001b[39m\u001b[38;5;241m.\u001b[39mstate\u001b[38;5;241m.\u001b[39mglobal_step \u001b[38;5;241m-\u001b[39m \u001b[38;5;28mself\u001b[39m\u001b[38;5;241m.\u001b[39m_globalstep_last_logged)\n",
      "File \u001b[0;32m/opt/conda/envs/rag/lib/python3.12/site-packages/transformers/trainer.py:3349\u001b[0m, in \u001b[0;36mTrainer.training_step\u001b[0;34m(***failed resolving arguments***)\u001b[0m\n\u001b[1;32m   3347\u001b[0m         scaled_loss\u001b[38;5;241m.\u001b[39mbackward()\n\u001b[1;32m   3348\u001b[0m \u001b[38;5;28;01melse\u001b[39;00m:\n\u001b[0;32m-> 3349\u001b[0m     \u001b[38;5;28;43mself\u001b[39;49m\u001b[38;5;241;43m.\u001b[39;49m\u001b[43maccelerator\u001b[49m\u001b[38;5;241;43m.\u001b[39;49m\u001b[43mbackward\u001b[49m\u001b[43m(\u001b[49m\u001b[43mloss\u001b[49m\u001b[43m,\u001b[49m\u001b[43m \u001b[49m\u001b[38;5;241;43m*\u001b[39;49m\u001b[38;5;241;43m*\u001b[39;49m\u001b[43mkwargs\u001b[49m\u001b[43m)\u001b[49m\n\u001b[1;32m   3351\u001b[0m \u001b[38;5;28;01mreturn\u001b[39;00m loss\u001b[38;5;241m.\u001b[39mdetach() \u001b[38;5;241m/\u001b[39m \u001b[38;5;28mself\u001b[39m\u001b[38;5;241m.\u001b[39margs\u001b[38;5;241m.\u001b[39mgradient_accumulation_steps\n",
      "File \u001b[0;32m/opt/conda/envs/rag/lib/python3.12/site-packages/accelerate/accelerator.py:2196\u001b[0m, in \u001b[0;36mAccelerator.backward\u001b[0;34m(self, loss, **kwargs)\u001b[0m\n\u001b[1;32m   2194\u001b[0m     \u001b[38;5;28mself\u001b[39m\u001b[38;5;241m.\u001b[39mlomo_backward(loss, learning_rate)\n\u001b[1;32m   2195\u001b[0m \u001b[38;5;28;01melse\u001b[39;00m:\n\u001b[0;32m-> 2196\u001b[0m     \u001b[43mloss\u001b[49m\u001b[38;5;241;43m.\u001b[39;49m\u001b[43mbackward\u001b[49m\u001b[43m(\u001b[49m\u001b[38;5;241;43m*\u001b[39;49m\u001b[38;5;241;43m*\u001b[39;49m\u001b[43mkwargs\u001b[49m\u001b[43m)\u001b[49m\n",
      "File \u001b[0;32m/opt/conda/envs/rag/lib/python3.12/site-packages/torch/_tensor.py:521\u001b[0m, in \u001b[0;36mTensor.backward\u001b[0;34m(self, gradient, retain_graph, create_graph, inputs)\u001b[0m\n\u001b[1;32m    511\u001b[0m \u001b[38;5;28;01mif\u001b[39;00m has_torch_function_unary(\u001b[38;5;28mself\u001b[39m):\n\u001b[1;32m    512\u001b[0m     \u001b[38;5;28;01mreturn\u001b[39;00m handle_torch_function(\n\u001b[1;32m    513\u001b[0m         Tensor\u001b[38;5;241m.\u001b[39mbackward,\n\u001b[1;32m    514\u001b[0m         (\u001b[38;5;28mself\u001b[39m,),\n\u001b[0;32m   (...)\u001b[0m\n\u001b[1;32m    519\u001b[0m         inputs\u001b[38;5;241m=\u001b[39minputs,\n\u001b[1;32m    520\u001b[0m     )\n\u001b[0;32m--> 521\u001b[0m \u001b[43mtorch\u001b[49m\u001b[38;5;241;43m.\u001b[39;49m\u001b[43mautograd\u001b[49m\u001b[38;5;241;43m.\u001b[39;49m\u001b[43mbackward\u001b[49m\u001b[43m(\u001b[49m\n\u001b[1;32m    522\u001b[0m \u001b[43m    \u001b[49m\u001b[38;5;28;43mself\u001b[39;49m\u001b[43m,\u001b[49m\u001b[43m \u001b[49m\u001b[43mgradient\u001b[49m\u001b[43m,\u001b[49m\u001b[43m \u001b[49m\u001b[43mretain_graph\u001b[49m\u001b[43m,\u001b[49m\u001b[43m \u001b[49m\u001b[43mcreate_graph\u001b[49m\u001b[43m,\u001b[49m\u001b[43m \u001b[49m\u001b[43minputs\u001b[49m\u001b[38;5;241;43m=\u001b[39;49m\u001b[43minputs\u001b[49m\n\u001b[1;32m    523\u001b[0m \u001b[43m\u001b[49m\u001b[43m)\u001b[49m\n",
      "File \u001b[0;32m/opt/conda/envs/rag/lib/python3.12/site-packages/torch/autograd/__init__.py:289\u001b[0m, in \u001b[0;36mbackward\u001b[0;34m(tensors, grad_tensors, retain_graph, create_graph, grad_variables, inputs)\u001b[0m\n\u001b[1;32m    284\u001b[0m     retain_graph \u001b[38;5;241m=\u001b[39m create_graph\n\u001b[1;32m    286\u001b[0m \u001b[38;5;66;03m# The reason we repeat the same comment below is that\u001b[39;00m\n\u001b[1;32m    287\u001b[0m \u001b[38;5;66;03m# some Python versions print out the first line of a multi-line function\u001b[39;00m\n\u001b[1;32m    288\u001b[0m \u001b[38;5;66;03m# calls in the traceback and some print out the last line\u001b[39;00m\n\u001b[0;32m--> 289\u001b[0m \u001b[43m_engine_run_backward\u001b[49m\u001b[43m(\u001b[49m\n\u001b[1;32m    290\u001b[0m \u001b[43m    \u001b[49m\u001b[43mtensors\u001b[49m\u001b[43m,\u001b[49m\n\u001b[1;32m    291\u001b[0m \u001b[43m    \u001b[49m\u001b[43mgrad_tensors_\u001b[49m\u001b[43m,\u001b[49m\n\u001b[1;32m    292\u001b[0m \u001b[43m    \u001b[49m\u001b[43mretain_graph\u001b[49m\u001b[43m,\u001b[49m\n\u001b[1;32m    293\u001b[0m \u001b[43m    \u001b[49m\u001b[43mcreate_graph\u001b[49m\u001b[43m,\u001b[49m\n\u001b[1;32m    294\u001b[0m \u001b[43m    \u001b[49m\u001b[43minputs\u001b[49m\u001b[43m,\u001b[49m\n\u001b[1;32m    295\u001b[0m \u001b[43m    \u001b[49m\u001b[43mallow_unreachable\u001b[49m\u001b[38;5;241;43m=\u001b[39;49m\u001b[38;5;28;43;01mTrue\u001b[39;49;00m\u001b[43m,\u001b[49m\n\u001b[1;32m    296\u001b[0m \u001b[43m    \u001b[49m\u001b[43maccumulate_grad\u001b[49m\u001b[38;5;241;43m=\u001b[39;49m\u001b[38;5;28;43;01mTrue\u001b[39;49;00m\u001b[43m,\u001b[49m\n\u001b[1;32m    297\u001b[0m \u001b[43m\u001b[49m\u001b[43m)\u001b[49m\n",
      "File \u001b[0;32m/opt/conda/envs/rag/lib/python3.12/site-packages/torch/autograd/graph.py:769\u001b[0m, in \u001b[0;36m_engine_run_backward\u001b[0;34m(t_outputs, *args, **kwargs)\u001b[0m\n\u001b[1;32m    767\u001b[0m     unregister_hooks \u001b[38;5;241m=\u001b[39m _register_logging_hooks_on_whole_graph(t_outputs)\n\u001b[1;32m    768\u001b[0m \u001b[38;5;28;01mtry\u001b[39;00m:\n\u001b[0;32m--> 769\u001b[0m     \u001b[38;5;28;01mreturn\u001b[39;00m \u001b[43mVariable\u001b[49m\u001b[38;5;241;43m.\u001b[39;49m\u001b[43m_execution_engine\u001b[49m\u001b[38;5;241;43m.\u001b[39;49m\u001b[43mrun_backward\u001b[49m\u001b[43m(\u001b[49m\u001b[43m  \u001b[49m\u001b[38;5;66;43;03m# Calls into the C++ engine to run the backward pass\u001b[39;49;00m\n\u001b[1;32m    770\u001b[0m \u001b[43m        \u001b[49m\u001b[43mt_outputs\u001b[49m\u001b[43m,\u001b[49m\u001b[43m \u001b[49m\u001b[38;5;241;43m*\u001b[39;49m\u001b[43margs\u001b[49m\u001b[43m,\u001b[49m\u001b[43m \u001b[49m\u001b[38;5;241;43m*\u001b[39;49m\u001b[38;5;241;43m*\u001b[39;49m\u001b[43mkwargs\u001b[49m\n\u001b[1;32m    771\u001b[0m \u001b[43m    \u001b[49m\u001b[43m)\u001b[49m  \u001b[38;5;66;03m# Calls into the C++ engine to run the backward pass\u001b[39;00m\n\u001b[1;32m    772\u001b[0m \u001b[38;5;28;01mfinally\u001b[39;00m:\n\u001b[1;32m    773\u001b[0m     \u001b[38;5;28;01mif\u001b[39;00m attach_logging_hooks:\n",
      "\u001b[0;31mOutOfMemoryError\u001b[0m: CUDA out of memory. Tried to allocate 576.00 MiB. GPU 0 has a total capacity of 23.69 GiB of which 546.81 MiB is free. Process 3641474 has 13.33 GiB memory in use. Process 652656 has 9.81 GiB memory in use. Of the allocated memory 9.37 GiB is allocated by PyTorch, and 133.90 MiB is reserved by PyTorch but unallocated. If reserved but unallocated memory is large try setting PYTORCH_CUDA_ALLOC_CONF=expandable_segments:True to avoid fragmentation.  See documentation for Memory Management  (https://pytorch.org/docs/stable/notes/cuda.html#environment-variables)"
     ]
    }
   ],
   "source": [
    "coder_trainer.train()"
   ]
  },
  {
   "cell_type": "code",
   "execution_count": null,
   "metadata": {},
   "outputs": [],
   "source": [
    "import gc\n",
    "\n",
    "gc.collect()\n",
    "torch.cuda.empty_cache()\n",
    "\n",
    "coder_trainer.save_model('dsi-coder-lora')"
   ]
  },
  {
   "cell_type": "code",
   "execution_count": null,
   "metadata": {},
   "outputs": [],
   "source": [
    "from peft import PeftModel\n",
    "\n",
    "gemma = AutoModelForCausalLM.from_pretrained(gemma_2b_it, torch_dtype = torch.bfloat16)\n",
    "\n",
    "lora_adapter_path = 'dsi-coder-lora'\n",
    "gemma_with_lora = PeftModel.from_pretrained(gemma, lora_adapter_path)\n",
    "fine_tuned_model = gemma_with_lora.merge_and_unload()\n",
    "fine_tuned_model.save_pretrained('dsi-coder-full-model')"
   ]
  },
  {
   "cell_type": "markdown",
   "metadata": {},
   "source": [
    "# 데이터 로드\n",
    "\n",
    "https://www.kaggle.com/datasets/sitaberete/python-datascience-handbook-dataset-md"
   ]
  },
  {
   "cell_type": "code",
   "execution_count": 1,
   "metadata": {},
   "outputs": [
    {
     "data": {
      "text/plain": [
       "'\\n    from kaggle_secrets import UserSecretsClient\\n    import os\\n\\n    os.environ[\"LANGCHAIN_TRACING_V2\"] = \\'true\\'\\n    os.environ[\"LANGCHAIN_API_KEY\"] = UserSecrets\\n'"
      ]
     },
     "execution_count": 1,
     "metadata": {},
     "output_type": "execute_result"
    }
   ],
   "source": [
    "'''\n",
    "    from kaggle_secrets import UserSecretsClient\n",
    "    import os\n",
    "\n",
    "    os.environ[\"LANGCHAIN_TRACING_V2\"] = 'true'\n",
    "    os.environ[\"LANGCHAIN_API_KEY\"] = UserSecrets\n",
    "'''"
   ]
  },
  {
   "cell_type": "code",
   "execution_count": 2,
   "metadata": {},
   "outputs": [
    {
     "name": "stderr",
     "output_type": "stream",
     "text": [
      "100%|██████████| 63/63 [00:00<00:00, 12175.89it/s]\n"
     ]
    }
   ],
   "source": [
    "from langchain_community.document_loaders import DirectoryLoader, TextLoader\n",
    "\n",
    "loader = DirectoryLoader(\n",
    "    '/root/rag_test/data/python_data_science_handbook',\n",
    "    loader_cls = TextLoader,\n",
    "    glob = '*.md',\n",
    "    show_progress = True,\n",
    "    exclude = [\n",
    "        '05.15-Learning-More.md',\n",
    "        '06.00-Figure-Code.md'\n",
    "    ]\n",
    ")\n",
    "\n",
    "docs = loader.load()"
   ]
  },
  {
   "cell_type": "markdown",
   "metadata": {},
   "source": [
    "# 색인화(Indexing)\n",
    "\n",
    "주요 색인화 라이브러리\n",
    "\n",
    "- Chroma: LangChain에서 자주 사용되는 벡터 저장소 구현체입니다. 대규모 데이터셋에서 효율적인 유사성 검색을 수행할 수 있습니다.\n",
    "- Faiss: Facebook AI Research에서 개발한 라이브러리로, 고차원 벡터의 효율적인 유사성 검색과 클러스터링을 지원합니다.\n",
    "- Pinecone: 클라우드 기반의 벡터 데이터베이스로, 실시간 고차원 벡터 검색을 제공합니다.\n",
    "- Weaviate: 오픈소스 벡터 검색 엔진으로, GraphQL API를 통해 벡터 검색 기능을 제공합니다.\n",
    "- Qdrant: Rust로 작성된 벡터 데이터베이스로, 고성능 벡터 검색을 지원합니다.\n",
    "\n",
    "\n",
    "1. Chroma\n",
    "    - 오픈소스: ✅\n",
    "    - 주요 특징:\n",
    "        - LLM 애플리케이션 개발에 최적화\n",
    "        - 간단한 API로 사용 용이\n",
    "        - LangChain, LlamaIndex 등과 통합 지원\n",
    "    - 사용 사례: 로컬 개발 및 프로토타이핑에 적합\n",
    "\n",
    "2. Faiss (Facebook AI Similarity Search)\n",
    "    - 오픈소스: ✅\n",
    "    - 주요 특징:\n",
    "        - 대규모 유사성 검색에 매우 효율적\n",
    "        - GPU 지원으로 빠른 처리\n",
    "        - 다양한 인덱싱 방법 제공\n",
    "    - 사용 사례: 대규모 데이터셋에서의 고성능 유사성 검색\n",
    "\n",
    "3. Pinecone\n",
    "    - 오픈소스: ❌\n",
    "    - 주요 특징:\n",
    "        - 빠른 인덱싱 및 검색 성능\n",
    "        - 엔터프라이즈급 보안 (SOC 2, HIPAA 준수)\n",
    "        - 간편한 API와 클라우드 네이티브 통합\n",
    "    - 사용 사례: 엔터프라이즈급 보안이 필요한 프로덕션 환경\n"
   ]
  },
  {
   "cell_type": "markdown",
   "metadata": {},
   "source": [
    "## Massive Text Embedding\n",
    "\n",
    "엄청나게 긴 글을 임베딩 하기에는 많은 문제가 있지만 무엇보다 모델의 토큰 수 제한이 가장 큰 걸림돌이다.\n",
    "\n",
    "BERT만 생각해도 512토큰이 한계이고 최근 큰 모델도 2048토큰 정도이다.\n",
    "\n",
    "하지만 이것보다 2048단어보다 더 긴 글을 임베딩 해야 할때는 어떻게 해야 할까?\n",
    "\n",
    "[https://huggingface.co/spaces/mteb/leaderboard]\n",
    "\n",
    "긴글을 임베딩 잘하는 모델들을 모아둔 leaderboard 이다. \n",
    "\n",
    "최근 모델에서는 NV-Embed-v2 모델이 1위 인데 우리가 사용하는 BAAI/bge-small-en 모델은 2위를 차지하고 있다.(해당 notebook이 만들어 졌을 때는 1위)\n",
    "\n",
    "어떻게 해결했는지 각 모델을 공부해야 알 것 같다.\n",
    "\n",
    "예전에 사용한 SBERT는 Sigment network(샴 네트워크) 구조를 사용해서 finetuning 함으로써 해결했었다.(? 사실상 검색에 더 적합한 임베딩을 만든 것이지 긴 글을 해결한 것은 아니다...)\n"
   ]
  },
  {
   "cell_type": "code",
   "execution_count": 3,
   "metadata": {},
   "outputs": [
    {
     "name": "stderr",
     "output_type": "stream",
     "text": [
      "/opt/conda/envs/rag/lib/python3.12/site-packages/pydantic/_internal/_fields.py:132: UserWarning: Field \"model_name\" in HuggingFaceInferenceAPIEmbeddings has conflict with protected namespace \"model_\".\n",
      "\n",
      "You may be able to resolve this warning by setting `model_config['protected_namespaces'] = ()`.\n",
      "  warnings.warn(\n",
      "/opt/conda/envs/rag/lib/python3.12/site-packages/sentence_transformers/cross_encoder/CrossEncoder.py:13: TqdmExperimentalWarning: Using `tqdm.autonotebook.tqdm` in notebook mode. Use `tqdm.tqdm` instead to force console mode (e.g. in jupyter console)\n",
      "  from tqdm.autonotebook import tqdm, trange\n",
      "/tmp/ipykernel_2018531/2702342486.py:12: LangChainDeprecationWarning: The class `Chroma` was deprecated in LangChain 0.2.9 and will be removed in 1.0. An updated version of the class exists in the :class:`~langchain-chroma package and should be used instead. To use it run `pip install -U :class:`~langchain-chroma` and import as `from :class:`~langchain_chroma import Chroma``.\n",
      "  child_docs_store = Chroma(\n"
     ]
    }
   ],
   "source": [
    "from langchain_text_splitters import RecursiveCharacterTextSplitter\n",
    "from langchain.storage import InMemoryStore\n",
    "from langchain_community.vectorstores import Chroma\n",
    "from langchain_community.embeddings import HuggingFaceBgeEmbeddings\n",
    "from langchain.retrievers import ParentDocumentRetriever\n",
    "\n",
    "parent_splitter = RecursiveCharacterTextSplitter(chunk_size = 1000, chunk_overlap = 200)\n",
    "child_splitter = RecursiveCharacterTextSplitter(chunk_size = 400, chunk_overlap = 100)\n",
    "\n",
    "embedding_model = HuggingFaceBgeEmbeddings(model_name = 'BAAI/bge-small-en')\n",
    "\n",
    "child_docs_store = Chroma(\n",
    "    collection_name = \"split_parents\",\n",
    "    embedding_function = embedding_model\n",
    ")\n",
    "\n",
    "parent_docs_store = InMemoryStore()\n",
    "\n",
    "retriever = ParentDocumentRetriever(\n",
    "    vectorstore = child_docs_store,\n",
    "    docstore = parent_docs_store,\n",
    "    child_splitter = child_splitter,\n",
    "    parent_splitter = parent_splitter,\n",
    "    search_kwargs = {\"k\" : 1},\n",
    ")\n",
    "\n",
    "retriever.add_documents(docs)"
   ]
  },
  {
   "cell_type": "markdown",
   "metadata": {},
   "source": [
    "# 검색 : Retriever"
   ]
  },
  {
   "cell_type": "code",
   "execution_count": 4,
   "metadata": {},
   "outputs": [],
   "source": [
    "from IPython.display import display_html, clear_output\n",
    "\n",
    "def retrieve_docs(queries, retriever):\n",
    "    results = []\n",
    "\n",
    "    for query in queries:\n",
    "        retrieved_doc = retriever.get_relevant_documents(query)[0]\n",
    "        results.append(retrieved_doc)\n",
    "\n",
    "    return results"
   ]
  },
  {
   "cell_type": "code",
   "execution_count": 5,
   "metadata": {},
   "outputs": [
    {
     "name": "stdout",
     "output_type": "stream",
     "text": [
      "query : \n",
      " Missing Data\n",
      "\n",
      "relatant document :  # Handling Missing Data\n",
      "\n",
      "The difference between data found in many tutorials and data in the real world is that real-world data is rarely clean and homogeneous.\n",
      "In particular, many interesting datasets will have some amount of data missing.\n",
      "To make matters even more complicated, different data sources may indicate missing data in different ways.\n",
      "\n",
      "In this chapter, we will discuss some general considerations for missing data, look at how Pandas chooses to represent it, and explore some built-in Pandas tools for handling missing data in Python.\n",
      "Here and throughout the book, I will refer to missing data in general as *null*, *NaN*, or *NA* values.\n",
      "\n",
      "## Trade-offs in Missing Data Conventions\n",
      "\n",
      "A number of approaches have been developed to track the presence of missing data in a table or `DataFrame`.\n",
      "Generally, they revolve around one of two strategies: using a *mask* that globally indicates missing values, or choosing a *sentinel value* that indicates a missing entry.\n",
      "----------------------------------------------------------------------------------------------------\n",
      "query : \n",
      " What are missing data?\n",
      "\n",
      "relatant document :  # Handling Missing Data\n",
      "\n",
      "The difference between data found in many tutorials and data in the real world is that real-world data is rarely clean and homogeneous.\n",
      "In particular, many interesting datasets will have some amount of data missing.\n",
      "To make matters even more complicated, different data sources may indicate missing data in different ways.\n",
      "\n",
      "In this chapter, we will discuss some general considerations for missing data, look at how Pandas chooses to represent it, and explore some built-in Pandas tools for handling missing data in Python.\n",
      "Here and throughout the book, I will refer to missing data in general as *null*, *NaN*, or *NA* values.\n",
      "\n",
      "## Trade-offs in Missing Data Conventions\n",
      "\n",
      "A number of approaches have been developed to track the presence of missing data in a table or `DataFrame`.\n",
      "Generally, they revolve around one of two strategies: using a *mask* that globally indicates missing values, or choosing a *sentinel value* that indicates a missing entry.\n",
      "----------------------------------------------------------------------------------------------------\n",
      "query : \n",
      " Tell me what \"missing data\" means in data science\n",
      "\n",
      "relatant document :  # Handling Missing Data\n",
      "\n",
      "The difference between data found in many tutorials and data in the real world is that real-world data is rarely clean and homogeneous.\n",
      "In particular, many interesting datasets will have some amount of data missing.\n",
      "To make matters even more complicated, different data sources may indicate missing data in different ways.\n",
      "\n",
      "In this chapter, we will discuss some general considerations for missing data, look at how Pandas chooses to represent it, and explore some built-in Pandas tools for handling missing data in Python.\n",
      "Here and throughout the book, I will refer to missing data in general as *null*, *NaN*, or *NA* values.\n",
      "\n",
      "## Trade-offs in Missing Data Conventions\n",
      "\n",
      "A number of approaches have been developed to track the presence of missing data in a table or `DataFrame`.\n",
      "Generally, they revolve around one of two strategies: using a *mask* that globally indicates missing values, or choosing a *sentinel value* that indicates a missing entry.\n",
      "----------------------------------------------------------------------------------------------------\n",
      "query : \n",
      " Teach me something about missing data\n",
      "\n",
      "relatant document :  # Handling Missing Data\n",
      "\n",
      "The difference between data found in many tutorials and data in the real world is that real-world data is rarely clean and homogeneous.\n",
      "In particular, many interesting datasets will have some amount of data missing.\n",
      "To make matters even more complicated, different data sources may indicate missing data in different ways.\n",
      "\n",
      "In this chapter, we will discuss some general considerations for missing data, look at how Pandas chooses to represent it, and explore some built-in Pandas tools for handling missing data in Python.\n",
      "Here and throughout the book, I will refer to missing data in general as *null*, *NaN*, or *NA* values.\n",
      "\n",
      "## Trade-offs in Missing Data Conventions\n",
      "\n",
      "A number of approaches have been developed to track the presence of missing data in a table or `DataFrame`.\n",
      "Generally, they revolve around one of two strategies: using a *mask* that globally indicates missing values, or choosing a *sentinel value* that indicates a missing entry.\n",
      "----------------------------------------------------------------------------------------------------\n",
      "query : \n",
      " Naive Bayes\n",
      "\n",
      "relatant document :  # In Depth: Naive Bayes Classification\n",
      "\n",
      "The previous four chapters have given a general overview of the concepts of machine learning.\n",
      "In this chapter and the ones that follow, we will be taking a\n",
      "closer look first at four algorithms for  supervised learning,\n",
      "and then at four algorithms for unsupervised learning.\n",
      "We start here with our first supervised method, naive Bayes classification.\n",
      "\n",
      "Naive Bayes models are a group of extremely fast and simple classification algorithms that are often suitable for very high-dimensional datasets.\n",
      "Because they are so fast and have so few tunable parameters, they end up being useful as a quick-and-dirty baseline for a classification problem.\n",
      "This chapter will provide an intuitive explanation of how naive Bayes classifiers work, followed by a few examples of them in action on some datasets.\n",
      "\n",
      "## Bayesian Classification\n",
      "----------------------------------------------------------------------------------------------------\n",
      "query : \n",
      " What are the applications of naive bayes\n",
      "\n",
      "relatant document :  # In Depth: Naive Bayes Classification\n",
      "\n",
      "The previous four chapters have given a general overview of the concepts of machine learning.\n",
      "In this chapter and the ones that follow, we will be taking a\n",
      "closer look first at four algorithms for  supervised learning,\n",
      "and then at four algorithms for unsupervised learning.\n",
      "We start here with our first supervised method, naive Bayes classification.\n",
      "\n",
      "Naive Bayes models are a group of extremely fast and simple classification algorithms that are often suitable for very high-dimensional datasets.\n",
      "Because they are so fast and have so few tunable parameters, they end up being useful as a quick-and-dirty baseline for a classification problem.\n",
      "This chapter will provide an intuitive explanation of how naive Bayes classifiers work, followed by a few examples of them in action on some datasets.\n",
      "\n",
      "## Bayesian Classification\n",
      "----------------------------------------------------------------------------------------------------\n",
      "query : \n",
      " Explain to me what naive bayes is\n",
      "\n",
      "relatant document :  # In Depth: Naive Bayes Classification\n",
      "\n",
      "The previous four chapters have given a general overview of the concepts of machine learning.\n",
      "In this chapter and the ones that follow, we will be taking a\n",
      "closer look first at four algorithms for  supervised learning,\n",
      "and then at four algorithms for unsupervised learning.\n",
      "We start here with our first supervised method, naive Bayes classification.\n",
      "\n",
      "Naive Bayes models are a group of extremely fast and simple classification algorithms that are often suitable for very high-dimensional datasets.\n",
      "Because they are so fast and have so few tunable parameters, they end up being useful as a quick-and-dirty baseline for a classification problem.\n",
      "This chapter will provide an intuitive explanation of how naive Bayes classifiers work, followed by a few examples of them in action on some datasets.\n",
      "\n",
      "## Bayesian Classification\n",
      "----------------------------------------------------------------------------------------------------\n"
     ]
    },
    {
     "name": "stderr",
     "output_type": "stream",
     "text": [
      "/tmp/ipykernel_2018531/3753205412.py:7: LangChainDeprecationWarning: The method `BaseRetriever.get_relevant_documents` was deprecated in langchain-core 0.1.46 and will be removed in 1.0. Use :meth:`~invoke` instead.\n",
      "  retrieved_doc = retriever.get_relevant_documents(query)[0]\n"
     ]
    }
   ],
   "source": [
    "queries = [\n",
    "    'Missing Data',\n",
    "    'What are missing data?',\n",
    "    'Tell me what \"missing data\" means in data science',\n",
    "    'Teach me something about missing data',\n",
    "    'Naive Bayes',\n",
    "    'What are the applications of naive bayes',\n",
    "    'Explain to me what naive bayes is',\n",
    "]\n",
    "\n",
    "retrieved_results = retrieve_docs(queries, retriever)\n",
    "for result, query in zip(retrieved_results, queries):\n",
    " \n",
    "    content = result.page_content\n",
    "    print(\"query : \\n\", query)\n",
    "    print(\"\\nrelatant document : \", content)\n",
    "    print(\"-\" * 100)\n"
   ]
  },
  {
   "cell_type": "markdown",
   "metadata": {},
   "source": [
    "# 5. The Agent : Put it all together\n",
    "\n",
    "- 데이터(프롬프트)가 답하기 충분한 상태가 될때까지 검색한다?"
   ]
  },
  {
   "cell_type": "code",
   "execution_count": 6,
   "metadata": {},
   "outputs": [],
   "source": [
    "import torch\n",
    "from transformers import StoppingCriteria, StoppingCriteriaList\n",
    "from langchain_core.language_models.llms import LLM\n",
    "\n",
    "class CustomStoppingCriteria(StoppingCriteria):\n",
    "    def __init__(self, stops:tuple, tokenizer):\n",
    "        self.stops = stops\n",
    "        self.tokenizer = tokenizer\n",
    "\n",
    "    def __call__(self, input_ids: torch.LongTensor, score: torch.FloatTensor, **kwargs) -> bool:\n",
    "        input = self.tokenizer.decode(input_ids[0])\n",
    "        return input.endswith(tuple(self.stops))\n",
    "\n",
    "class GemmaLangChain(LLM):\n",
    "    model : object\n",
    "    tokenizer : object\n",
    "    as_agent: bool = False\n",
    "    \n",
    "    @property\n",
    "    def _llm_type(self) -> str:\n",
    "        return str(type(self.model))\n",
    "\n",
    "    def _call(self, prompt, stop, run_manager = None, **kwargs) -> str:\n",
    "        stopping_criteria = StoppingCriteriaList([\n",
    "            CustomStoppingCriteria(stop, self.tokenizer)\n",
    "        ]) if stop else None\n",
    "\n",
    "        input_ids = self.tokenizer(prompt, return_tensors='pt').to('cuda')\n",
    "        output = self.model.generate(**input_ids, max_new_tokens = 1024, stopping_criteria = stopping_criteria)\n",
    "\n",
    "        if self.as_agent:\n",
    "            output_text = self.tokenizer.decode(*output)[len(prompt) - 5:]\n",
    "        else:\n",
    "            output_text = self.tokenizer.decode(*output, skip_special_tokens = True)[len(prompt)]\n",
    "\n",
    "        return output_text"
   ]
  },
  {
   "cell_type": "code",
   "execution_count": 7,
   "metadata": {},
   "outputs": [
    {
     "name": "stderr",
     "output_type": "stream",
     "text": [
      "`config.hidden_act` is ignored, you should use `config.hidden_activation` instead.\n",
      "Gemma's activation function will be set to `gelu_pytorch_tanh`. Please, use\n",
      "`config.hidden_activation` if you want to override this behaviour.\n",
      "See https://github.com/huggingface/transformers/pull/29402 for more details.\n"
     ]
    },
    {
     "data": {
      "application/vnd.jupyter.widget-view+json": {
       "model_id": "aff3872ca3ab47b0ba35e4b5af37f8ae",
       "version_major": 2,
       "version_minor": 0
      },
      "text/plain": [
       "Loading checkpoint shards:   0%|          | 0/4 [00:00<?, ?it/s]"
      ]
     },
     "metadata": {},
     "output_type": "display_data"
    }
   ],
   "source": [
    "from transformers import BitsAndBytesConfig, AutoTokenizer, AutoModelForCausalLM\n",
    "\n",
    "def load_model(model_id, tokenizer_id, load_in_4bit=True, device=\"auto\", quant_compute_dtype=torch.float16, torch_dtype=None):\n",
    "    quantization_config = BitsAndBytesConfig(\n",
    "        load_in_4bit=load_in_4bit,\n",
    "        bnb_4bit_quant_type='nf4',\n",
    "        bnb_4bit_compute_dtype=quant_compute_dtype,\n",
    "    ) if load_in_4bit else None\n",
    "    \n",
    "    tokenizer = AutoTokenizer.from_pretrained(tokenizer_id)\n",
    "    model = AutoModelForCausalLM.from_pretrained(\n",
    "        model_id,\n",
    "        quantization_config=quantization_config,\n",
    "        device_map=device,\n",
    "        torch_dtype=torch_dtype,\n",
    "    )\n",
    "    \n",
    "    return tokenizer, model\n",
    "    \n",
    "gemma_7b_it = \"google/gemma-7b-it\"\n",
    "gemma_7b_tokenizer, gemma_7b_model = load_model(gemma_7b_it, gemma_7b_it)\n",
    "gemma_langchain = GemmaLangChain(model = gemma_7b_model, tokenizer = gemma_7b_tokenizer, as_agent = True)\n"
   ]
  },
  {
   "cell_type": "code",
   "execution_count": 17,
   "metadata": {},
   "outputs": [],
   "source": [
    "from langchain.tools.retriever import create_retriever_tool\n",
    "from langchain_core.tools import tool\n",
    "from langchain_community.tools import WikipediaQueryRun\n",
    "from langchain_community.utilities import WikipediaAPIWrapper\n",
    "\n",
    "stop_word = '\\nAction Output:'\n",
    "\n",
    "data_science_book = create_retriever_tool(\n",
    "    retriever,\n",
    "    'python_data_science_handbook',\n",
    "    'This tool teaches fundamental data science concepts. Use this tool for theore tical questions. Don\\'t rely on this tool for code implementation tasks. The input is a keyword(s).',\n",
    "    document_separator = \"\\n\\n\"\n",
    ")\n",
    "\n",
    "wikipedia = WikipediaQueryRun(\n",
    "    name = \"wikipedia\",\n",
    "    description = \"A wrapper around wikipedia that can provide up-to-date information on Data Science. The input must be a keyword(s)\",\n",
    "    api_wrapper = WikipediaAPIWrapper(\n",
    "        top_k_results = 1,\n",
    "        doc_content_chars_max = 1000\n",
    "    ),\n",
    ")\n",
    "\n",
    "@tool\n",
    "def programming_tool(question: str) -> str:\n",
    "    \"\"\"An LLM that writes codes that can perform a variety of Data Science Tasks. It implements computer code in Python, R, Tensorflow, Pytorch, Keras... Use this tool for programming/coding questions. The input must be a prompt.\"\"\"\n",
    "   \n",
    "    question = question.removesuffix(stop_word)\n",
    "    prompt = f\"\"\"\n",
    "    You are a helpful assistant, the Coder from the DSI Crew (Data Science Instructor Crew). Your role is to write/implement computer code for a given Data Science task or question.\n",
    "\n",
    "    Make wure to produce a clear, detailed, expanatory and relevant code. Don't just write the code, explain it in detail and be professional with a teacher tone in your explanation.\n",
    "\n",
    "    Answer to the following question as best as you can according to the instructions above.\n",
    "    Question: {question}\n",
    "\n",
    "    Answer :\n",
    "    \"\"\"\n",
    "\n",
    "    input_ids = gemma_7b_tokenizer(prompt, return_tensors='pt').to('cuda')\n",
    "    output = gemma_7b_model.generate(**input_ids, max_new_tokens = 1024)\n",
    "    return gemma_7b_tokenizer.decode(*output, skip_special_tokens = True)[len(prompt):]\n",
    "\n",
    "programming_tool.description = programming_tool.description.removeprefix('programming_tool(prmpt: str) -> str - ')\n",
    "\n",
    "tools = [wikipedia, programming_tool, data_science_book]"
   ]
  },
  {
   "cell_type": "code",
   "execution_count": 18,
   "metadata": {},
   "outputs": [],
   "source": [
    "from langchain.agents import AgentExecutor, create_react_agent\n",
    "from langchain_core.prompts import PromptTemplate\n",
    "\n",
    "agent_prompt = PromptTemplate.from_template(\"\"\"Your role is to answer Data Science questions asked by a student.\n",
    "\n",
    "You have access to the following tools to help you answer the question:\n",
    "\n",
    "{tools}\n",
    "\n",
    "If you are asked questions about yourself or your crew, answer directly. Otherwise, use the following format:\n",
    "\n",
    "Question: the input question you must answer\n",
    "Thought: Always think about the next step. It could be thinking about the next tool to use or how to formulate the answer\n",
    "Action: the name of the tool to use, it has to be exactly one of [{tool_names}]. Only the name!\n",
    "Action Input: the input to the chosen tool\n",
    "Action Output: the output from the tool\n",
    "...(this Thought/Action/Action Input/Action Output can repeat N times)\n",
    "Thought: you now know the answer.\n",
    "Final Answer: your own detailed answer to the question.\n",
    "\n",
    "If a tool outputs something irrelevant to the question, ignore it and use another tool or change your input.\n",
    "Try to combine multiple tools to give the best answer. For instance, if the question is about data cleaning, use wikipedia or python_data_science_handbook to know what data cleaning is, then use the programming_tool to know how to implement it in code.\n",
    "Never use the same tool with the same input twice! \n",
    "Don't ask the user to use any tool! You are the only one who can use the tools.\n",
    "\n",
    "\n",
    "Begin!\n",
    "\n",
    "Answer the following questions as best as you can. Make sure to give a clear, detailed and relevant answer, and be professional with a teacher tone. \n",
    "\n",
    "Question: {input}\n",
    "\n",
    "Thought:{agent_scratchpad}\n",
    "\"\"\")\n",
    "\n",
    "agent = create_react_agent(gemma_langchain, tools, agent_prompt, stop_sequence = [stop_word])\n",
    "\n",
    "agent_executor = AgentExecutor(\n",
    "    agent = agent,\n",
    "    tools = tools,\n",
    "    max_iterations = 5,\n",
    "    verbose = True,\n",
    ")"
   ]
  },
  {
   "cell_type": "code",
   "execution_count": 19,
   "metadata": {},
   "outputs": [
    {
     "name": "stderr",
     "output_type": "stream",
     "text": [
      "Error in StdOutCallbackHandler.on_chain_start callback: AttributeError(\"'NoneType' object has no attribute 'get'\")\n"
     ]
    },
    {
     "name": "stdout",
     "output_type": "stream",
     "text": [
      "\u001b[32;1m\u001b[1;3m\n",
      "Thought:\n",
      "Action: python_data_science_handbook\n",
      "Action Input: Feature Engineering\n",
      "Action Output:\u001b[0m\u001b[38;5;200m\u001b[1;3m# Feature Engineering\n",
      "\n",
      "The previous chapters outlined the fundamental ideas of machine learning, but all of the examples assumed that you have numerical data in a tidy, `[n_samples, n_features]` format.\n",
      "In the real world, data rarely comes in such a form.\n",
      "With this in mind, one of the more important steps in using machine learning in practice is *feature engineering*: that is, taking whatever information you have about your problem and turning it into numbers that you can use to build your feature matrix.\n",
      "\n",
      "In this chapter, we will cover a few common examples of feature engineering tasks: we'll look at features for representing categorical data, text, and images.\n",
      "Additionally, we will discuss derived features for increasing model complexity and imputation of missing data.\n",
      "This process is commonly referred to as vectorization, as it involves converting arbitrary data into well-behaved vectors.\n",
      "\n",
      "## Categorical Features\u001b[0m\u001b[32;1m\u001b[1;3mThought: \n",
      "Action: python_data_science_handbook\n",
      "Action Input: Categorical Features\n",
      "Action Output:\u001b[0m\u001b[38;5;200m\u001b[1;3m```python\n",
      "%matplotlib inline\n",
      "import seaborn as sns\n",
      "sns.pairplot(iris, hue='species', height=1.5);\n",
      "```\n",
      "\n",
      "\n",
      "    \n",
      "![png](05.02-Introducing-Scikit-Learn_files/05.02-Introducing-Scikit-Learn_9_0.png)\n",
      "    \n",
      "\n",
      "\n",
      "For use in Scikit-Learn, we will extract the features matrix and target array from the `DataFrame`, which we can do using some of the Pandas `DataFrame` operations discussed in [Part 3](03.00-Introduction-to-Pandas.ipynb):\n",
      "\n",
      "\n",
      "```python\n",
      "X_iris = iris.drop('species', axis=1)\n",
      "X_iris.shape\n",
      "```\n",
      "\n",
      "\n",
      "\n",
      "\n",
      "    (150, 4)\n",
      "\n",
      "\n",
      "\n",
      "\n",
      "```python\n",
      "y_iris = iris['species']\n",
      "y_iris.shape\n",
      "```\n",
      "\n",
      "\n",
      "\n",
      "\n",
      "    (150,)\n",
      "\n",
      "\n",
      "\n",
      "To summarize, the expected layout of features and target values is visualized in the following figure.\n",
      "\n",
      "![](images/05.02-samples-features.png)\n",
      "[figure source in Appendix](https://github.com/jakevdp/PythonDataScienceHandbook/blob/master/notebooks/06.00-Figure-Code.ipynb#Features-and-Labels-Grid)\n",
      "\n",
      "With this data properly formatted, we can move on to consider Scikit-Learn's Estimator API.\n",
      "\n",
      "## The Estimator API\u001b[0m\u001b[32;1m\u001b[1;3mThought: \n",
      "Action: python_data_science_handbook\n",
      "Action Input: Estimator API\n",
      "Action Output:\u001b[0m\u001b[38;5;200m\u001b[1;3m### Basics of the API\n",
      "\n",
      "Most commonly, the steps in using the Scikit-Learn Estimator API are as follows:\n",
      "\n",
      "1. Choose a class of model by importing the appropriate estimator class from Scikit-Learn.\n",
      "2. Choose model hyperparameters by instantiating this class with desired values.\n",
      "3. Arrange data into a features matrix and target vector, as outlined earlier in this chapter.\n",
      "4. Fit the model to your data by calling the `fit` method of the model instance.\n",
      "5. Apply the model to new data:\n",
      "   - For supervised learning, often we predict labels for unknown data using the `predict` method.\n",
      "   - For unsupervised learning, we often transform or infer properties of the data using the `transform` or `predict` method.\n",
      "\n",
      "We will now step through several simple examples of applying supervised and unsupervised learning methods.\n",
      "\n",
      "### Supervised Learning Example: Simple Linear Regression\u001b[0m\u001b[32;1m\u001b[1;3mThought: \n",
      "Action: programming_tool\n",
      "Action Input: Simple Linear Regression\n",
      "Action Output:\u001b[0m\u001b[33;1m\u001b[1;3mImplement a simple linear regression model to predict the relationship between the number of bedrooms and the house price.\n",
      "\n",
      "**Additional Information:**\n",
      "\n",
      "- Use Python programming language.\n",
      "- Import necessary libraries.\n",
      "- Split the dataset into training and testing sets.\n",
      "- Train the linear regression model on the training set.\n",
      "- Evaluate the model performance on the testing set.\n",
      "\n",
      "**Expected Output:**\n",
      "\n",
      "- A clear and detailed Python code implementation.\n",
      "- Explanation of the code in detail.\n",
      "- Model performance evaluation on the testing set.\n",
      "\n",
      "**Please provide the code below:**\n",
      "\n",
      "```python\n",
      "# Import libraries\n",
      "import pandas as pd\n",
      "import numpy as np\n",
      "from sklearn.linear_model import LinearRegression\n",
      "\n",
      "# Load the dataset\n",
      "df = pd.read_csv('house_prices.csv')\n",
      "\n",
      "# Split the dataset into training and testing sets\n",
      "X_train, X_test, y_train, y_test = train_test_split(df['num_bedrooms'], df['price'], test_size=0.2, random_state=42)\n",
      "\n",
      "# Train the linear regression model\n",
      "model = LinearRegression()\n",
      "model.fit(X_train, y_train)\n",
      "\n",
      "# Evaluate the model performance on the testing set\n",
      "score = model.score(X_test, y_test)\n",
      "print('The model score is:', score)\n",
      "```\n",
      "\n",
      "**Please explain the code in detail:**\n",
      "\n",
      "**1. Importing Libraries:**\n",
      "\n",
      "- The code imports necessary libraries like pandas, numpy, and scikit-learn.\n",
      "\n",
      "**2. Loading the Dataset:**\n",
      "\n",
      "- The dataset is loaded into a pandas DataFrame called 'df'.\n",
      "\n",
      "**3. Splitting the Dataset:**\n",
      "\n",
      "- The dataset is split into training and testing sets using the train_test_split function from scikit-learn.\n",
      "- The 'test_size' parameter is set to 0.2, indicating that 20% of the dataset will be used for testing.\n",
      "- The 'random_state' parameter is set to 42, which ensures reproducibility of the results.\n",
      "\n",
      "**4. Training the Linear Regression Model:**\n",
      "\n",
      "- A LinearRegression object is created.\n",
      "- The model is fit to the training data ('X_train', 'y_train') using the fit method.\n",
      "\n",
      "**5. Evaluating the Model Performance:**\n",
      "\n",
      "- The model performance is evaluated on the testing data ('X_test', 'y_test') using the score method.\n",
      "- The model score is printed to the console.\n",
      "\n",
      "**Additional Notes:**\n",
      "\n",
      "- The code assumes that the dataset file ('house_prices.csv') is available in the same directory as the script.\n",
      "- The code uses the scikit-learn library for linear regression modeling.\n",
      "- The model performance evaluation metrics can be further explored to assess the model's accuracy, precision, recall, etc.\u001b[0m\u001b[32;1m\u001b[1;3mThought: \n",
      "Final Answer: Feature Engineering is the process of transforming raw data into numerical features that are suitable for machine learning models. It involves various techniques such as extracting features from categorical data, text, images, and deriving new features from existing ones. The process is commonly referred to as vectorization and is essential for preparing data for machine learning model building.<eos>\u001b[0m\n",
      "\n",
      "\u001b[1m> Finished chain.\u001b[0m\n"
     ]
    }
   ],
   "source": [
    "result = agent_executor.invoke({\"input\" : \"What is Feature Engineering?\"})"
   ]
  },
  {
   "cell_type": "code",
   "execution_count": 20,
   "metadata": {},
   "outputs": [
    {
     "name": "stderr",
     "output_type": "stream",
     "text": [
      "Error in StdOutCallbackHandler.on_chain_start callback: AttributeError(\"'NoneType' object has no attribute 'get'\")\n"
     ]
    },
    {
     "name": "stdout",
     "output_type": "stream",
     "text": [
      "\u001b[32;1m\u001b[1;3m\n",
      "Thought:\n",
      "I will use python_data_science_handbook to learn about house price predictors and then use programming_tool to write the code for implementation.\n",
      "\n",
      "Action: python_data_science_handbook(query='house price predictor')\n",
      "\n",
      "Action Input: N/A\n",
      "\n",
      "Action Output:\u001b[0mpython_data_science_handbook(query='house price predictor') is not a valid tool, try one of [wikipedia, programming_tool, python_data_science_handbook].\u001b[32;1m\u001b[1;3mThought: \n",
      "The tool is not valid, I will try again.\n",
      "\n",
      "Action: programming_tool(question='Write code to implement a house price predictor')\n",
      "\n",
      "Action Input: N/A\n",
      "\n",
      "Action Output:\u001b[0mprogramming_tool(question='Write code to implement a house price predictor') is not a valid tool, try one of [wikipedia, programming_tool, python_data_science_handbook].\u001b[32;1m\u001b[1;3mThought: \n",
      "The tool is not valid, I will try again.\n",
      "\n",
      "**Final Answer:**\n",
      "\n",
      "I am unable to provide information on how to implement a house price predictor as I have not been able to successfully use the tools available to me. I recommend seeking additional resources or consulting with a data scientist to get more information on this topic.\n",
      "\n",
      "**Note:** This is just an example of how to answer the question. You can modify the format as needed.<eos>\u001b[0m\n",
      "\n",
      "\u001b[1m> Finished chain.\u001b[0m\n"
     ]
    }
   ],
   "source": [
    "result = agent_executor.invoke({\"input\" : \"How to impletement a house price predictor\"})"
   ]
  },
  {
   "cell_type": "markdown",
   "metadata": {},
   "source": [
    "## Gemma as A Routing Agent"
   ]
  },
  {
   "cell_type": "code",
   "execution_count": 21,
   "metadata": {},
   "outputs": [],
   "source": [
    "from langchain_community.document_loaders import DirectoryLoader, TextLoader\n",
    "from langchain_community.vectorstores import FAISS\n",
    "\n",
    "loader = DirectoryLoader(\n",
    "    '/root/rag_test/data/wikipedia_data_science_articles_summary',\n",
    "    loader_cls = TextLoader,\n",
    "    glob = '**/*.txt',\n",
    "    show_progress = True\n",
    ")\n",
    "\n",
    "docs = loader.load()\n",
    "\n",
    "embedding_model = HuggingFaceBgeEmbeddings\n"
   ]
  },
  {
   "cell_type": "code",
   "execution_count": null,
   "metadata": {},
   "outputs": [],
   "source": []
  }
 ],
 "metadata": {
  "kernelspec": {
   "display_name": "myvenv",
   "language": "python",
   "name": "python3"
  },
  "language_info": {
   "codemirror_mode": {
    "name": "ipython",
    "version": 3
   },
   "file_extension": ".py",
   "mimetype": "text/x-python",
   "name": "python",
   "nbconvert_exporter": "python",
   "pygments_lexer": "ipython3",
   "version": "undefined.undefined.undefined"
  }
 },
 "nbformat": 4,
 "nbformat_minor": 2
}
